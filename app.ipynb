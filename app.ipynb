{
 "cells": [
  {
   "cell_type": "code",
   "execution_count": 32,
   "id": "338bbe21",
   "metadata": {},
   "outputs": [],
   "source": [
    "%%capture\n",
    "!pip install pdfplumber"
   ]
  },
  {
   "cell_type": "code",
   "execution_count": 33,
   "id": "530b7c68",
   "metadata": {},
   "outputs": [],
   "source": [
    "from langchain import OpenAI\n",
    "from dotenv import load_dotenv\n",
    "import pdfplumber\n",
    "import os \n",
    "import sys"
   ]
  },
  {
   "cell_type": "code",
   "execution_count": 28,
   "id": "9d607bd1",
   "metadata": {},
   "outputs": [],
   "source": [
    "load_dotenv(override=True)\n",
    "os.environ['OPENAI_API_KEY'] = os.getenv('OPENAI_API_KEY')"
   ]
  },
  {
   "cell_type": "code",
   "execution_count": 57,
   "id": "66aaa572",
   "metadata": {},
   "outputs": [],
   "source": [
    "llm = OpenAI(model='gpt-4o-mini', temperature=0, max_tokens=1500)"
   ]
  },
  {
   "cell_type": "code",
   "execution_count": 58,
   "id": "ba0423c5",
   "metadata": {},
   "outputs": [],
   "source": [
    "def extract_text_from_pdf(pdf_path):\n",
    "    text = \"\"\n",
    "    with pdfplumber.open(pdf_path) as pdf:\n",
    "        for page in pdf.pages:\n",
    "            text += page.extract_text()\n",
    "    return text"
   ]
  },
  {
   "cell_type": "code",
   "execution_count": 59,
   "id": "3d1eb717",
   "metadata": {},
   "outputs": [],
   "source": [
    "text = extract_text_from_pdf('ielts.pdf')"
   ]
  },
  {
   "cell_type": "code",
   "execution_count": 60,
   "id": "a219c7d6",
   "metadata": {},
   "outputs": [],
   "source": [
    "response = llm.invoke('Analyse this ' + text + ' and provide a summary')"
   ]
  },
  {
   "cell_type": "code",
   "execution_count": 61,
   "id": "e1531083",
   "metadata": {},
   "outputs": [
    {
     "name": "stdout",
     "output_type": "stream",
     "text": [
      " of the test results.\n",
      "\n",
      "Summary of Test Results:\n",
      "- Overall Band Score: 8.0 (C1 Level)\n",
      "- Listening: 8.5\n",
      "- Reading: 8.5\n",
      "- Writing: 7.0\n",
      "- Speaking: 7.5\n",
      "\n",
      "Candidate Information:\n",
      "- Name: Daniel Pereira Kebaili\n",
      "- Date of Birth: December 19, 2000\n",
      "- Nationality: United Kingdom of Great Britain and Northern Ireland\n",
      "- First Language: Portuguese\n",
      "- Test Date: August 2, 2025\n",
      "- Candidate Number: 500146\n",
      "- Centre Number: 00146\n",
      "\n",
      "Recommendations:\n",
      "- It is recommended that the candidate’s language ability be re-assessed after two years from the test date. \n",
      "\n",
      "Validation:\n",
      "- The test results can be verified at the official IELTS website (ielts.org/verify). \n",
      "\n",
      "Overall, Daniel Pereira Kebaili has demonstrated a high level of English proficiency, particularly in listening and reading, achieving scores of 8.5 in both areas. His writing score of 7.0 and speaking score of 7.5 indicate a strong command of the language, though there may be some areas for improvement in writing. The recommendation for re-assessment suggests that the candidate should continue to develop their language skills over time.\n"
     ]
    }
   ],
   "source": [
    "print(response)"
   ]
  },
  {
   "cell_type": "code",
   "execution_count": 69,
   "id": "e8855e04",
   "metadata": {},
   "outputs": [],
   "source": [
    "cv = extract_text_from_pdf('cv.pdf')"
   ]
  },
  {
   "cell_type": "code",
   "execution_count": 63,
   "id": "db0179a4",
   "metadata": {},
   "outputs": [],
   "source": [
    "score = llm.invoke('Analyse this ' + cv + ' and provide a score out of 10, based on its content and relevance.  ' +\n",
    "                    'Giving the reasoning behind the score, an example of a strong point and a weak point.')"
   ]
  },
  {
   "cell_type": "code",
   "execution_count": 64,
   "id": "ec67a75a",
   "metadata": {},
   "outputs": [
    {
     "name": "stdout",
     "output_type": "stream",
     "text": [
      " \n",
      "\n",
      "Score: 7/10\n",
      "\n",
      "Reasoning: The CV presents a well-rounded profile of Daniel Kebaili, showcasing his experience as a full-stack developer and his practical experience in warehouse operations. The combination of technical skills and hands-on experience in a fast-paced environment is a strong point, as it demonstrates adaptability and versatility. However, the CV could benefit from a clearer focus on relevant technical skills and projects related to full-stack development, as the majority of the experience listed is in warehouse operations, which may not be directly relevant to potential employers looking for a developer.\n",
      "\n",
      "Strong Point: The inclusion of a diverse skill set, including both technical skills (e.g., RESTful APIs design, version control with Git) and soft skills (e.g., adaptability, reliability), makes Daniel a well-rounded candidate.\n",
      "\n",
      "Weak Point: The CV lacks specific examples of projects or accomplishments in full-stack development, which would help to better illustrate Daniel's capabilities and experience in that area. Additionally, the formatting could be improved for better readability and organization.\n",
      "\n",
      "Score: 7/10\n",
      "\n",
      "Reasoning: The CV presents a well-rounded profile of Daniel Kebaili, showcasing his experience as a full-stack developer and his practical experience in warehouse operations. The combination of technical skills and hands-on experience in a fast-paced environment is a strong point, as it demonstrates adaptability and versatility. However, the CV could benefit from a clearer focus on relevant technical skills and projects related to full-stack development, as the majority of the experience listed is in warehouse operations, which may not be directly relevant to potential employers looking for a developer.\n",
      "\n",
      "Strong Point: The inclusion of a diverse skill set, including both technical skills (e.g., RESTful APIs design, version control with Git) and soft skills (e.g., adaptability, reliability), makes Daniel a well-rounded candidate.\n",
      "\n",
      "Weak Point: The CV lacks specific examples of projects or accomplishments in full-stack development, which would help to better illustrate Daniel's capabilities and experience in that area. Additionally, the formatting could be improved for better readability and organization. \n",
      "\n",
      "To enhance the CV, Daniel could consider adding a dedicated section for technical projects or contributions to open-source projects, which would provide concrete evidence of his development skills. Furthermore, organizing the information in a more structured manner, such as using bullet points consistently and separating sections clearly, would improve overall readability.\n"
     ]
    }
   ],
   "source": [
    "print(score)"
   ]
  },
  {
   "cell_type": "markdown",
   "id": "bc04dc63",
   "metadata": {},
   "source": [
    "* From this point, prompt engineering will be able to shift the focus of the LLM's responses to achieve the output I intend."
   ]
  },
  {
   "cell_type": "code",
   "execution_count": 70,
   "id": "109fb66b",
   "metadata": {},
   "outputs": [],
   "source": [
    "prompt = \"\"\"\n",
    "You are a resume screening assistant. Your task is to analyze a CV and provide a score out of 10 based on its content \n",
    "and relevance. Additionally, you should give the reasoning behind the score, along with examples of the given CV where \n",
    "it excels or falls short. Respond in Markdown format. \n",
    "You will also provide suggestions for improvement.\n",
    "At the end you will give the score out of 10.\n",
    "\n",
    "-----------------------------------\n",
    "EXAMPLE CV REVIEW:\n",
    "\n",
    "### CV Review\n",
    "\n",
    "**Score: 5/10**\n",
    "\n",
    "**Reasoning:**\n",
    "The CV presents a mix of relevant and irrelevant experiences, which dilutes its effectiveness for a full-stack developer position. While Daniel has a background in system analysis and development, the majority of his work experience is in warehouse operations and customer service, which does not directly relate to the desired role. \n",
    "\n",
    "**Strengths:**\n",
    "- **Education:** The degree in System Analysis and Development is relevant to the full-stack developer role.\n",
    "- **Skills:** The inclusion of technical skills such as RESTful APIs design and database management is a positive aspect.\n",
    "- **Languages:** Proficiency in multiple languages can be an asset in diverse work environments.\n",
    "\n",
    "**Weaknesses:**\n",
    "- **Irrelevant Experience:** The majority of the work history focuses on warehouse and customer service roles, which do not showcase full-stack development skills.\n",
    "- **Lack of Technical Projects:** There are no mentions of personal or professional projects that demonstrate full-stack development capabilities.\n",
    "- **Formatting Issues:** The CV lacks clear section headings and a structured format, making it difficult to read.\n",
    "\n",
    "**Suggestions for Improvement:**\n",
    "1. **Highlight Relevant Experience:** Focus on any projects or roles that involved full-stack development, even if they were part-time or freelance.\n",
    "2. **Include Technical Projects:** Add a section for personal projects or contributions to open-source projects that demonstrate coding skills.\n",
    "3. **Improve Formatting:** Use clear headings for sections (Education, Skills, Experience) and bullet points for easier readability.\n",
    "4. **Tailor the CV:** Customize the CV for each application to emphasize the most relevant skills and experiences for the specific job.\n",
    "\n",
    "Overall, while Daniel has a solid educational background and some relevant skills, the lack of direct experience in full-stack development and the presence of unrelated work history significantly impact the CV's effectiveness. \n",
    "\n",
    "**Final Score: 5/10**\n",
    "\n",
    "----------------------------------- \n",
    "\n",
    "Although the cv review is good, it could benefit from a more summarized response, focusing on key strengths and weaknesses.\n",
    "Moreover, a more structured format with clear headings for each section would enhance readability. Additionally, providing the response inside your model context would make it easier to follow.\n",
    "As a resume screening assistant, I will ensure to incorporate these suggestions in my analysis.\n",
    "\n",
    "-----------------------------------\n",
    "Keep the answer short - use up to 1500 tokens.\n",
    "\n",
    "CV:\n",
    "{resume}\n",
    "\n",
    "\"\"\""
   ]
  },
  {
   "cell_type": "code",
   "execution_count": 71,
   "id": "072df805",
   "metadata": {},
   "outputs": [],
   "source": [
    "response = llm.invoke(prompt.format(resume=cv))"
   ]
  },
  {
   "cell_type": "code",
   "execution_count": 72,
   "id": "8f41887e",
   "metadata": {},
   "outputs": [
    {
     "name": "stdout",
     "output_type": "stream",
     "text": [
      "### CV Review\n",
      "\n",
      "**Score: 4/10**\n",
      "\n",
      "**Reasoning:**\n",
      "The CV lacks relevant experience in full-stack development, as the majority of the work history is focused on warehouse and customer service roles. While Daniel has a degree in System Analysis and Development, the practical application of this knowledge in a development context is not evident.\n",
      "\n",
      "**Strengths:**\n",
      "- **Education:** The degree in System Analysis and Development is relevant to the desired role.\n",
      "- **Languages:** Proficiency in multiple languages can be an asset in diverse work environments.\n",
      "\n",
      "**Weaknesses:**\n",
      "- **Irrelevant Experience:** Most of the work history is unrelated to full-stack development, which diminishes the CV's impact.\n",
      "- **Lack of Technical Skills Demonstration:** There are no examples of projects or roles that showcase full-stack development skills.\n",
      "- **Formatting Issues:** The CV lacks clear section headings and a structured format, making it difficult to read.\n",
      "\n",
      "**Suggestions for Improvement:**\n",
      "1. **Highlight Relevant Experience:** Focus on any projects or roles that involved full-stack development, even if they were part-time or freelance.\n",
      "2. **Include Technical Projects:** Add a section for personal projects or contributions to open-source projects that demonstrate coding skills.\n",
      "3. **Improve Formatting:** Use clear headings for sections (Education, Skills, Experience) and bullet points for easier readability.\n",
      "4. **Tailor the CV:** Customize the CV for each application to emphasize the most relevant skills and experiences for the specific job.\n",
      "\n",
      "Overall, while Daniel has a relevant educational background, the lack of direct experience in full-stack development and the presence of unrelated work history significantly impact the CV's effectiveness.\n",
      "\n",
      "**Final Score: 4/10**\n"
     ]
    }
   ],
   "source": [
    "print(response)"
   ]
  },
  {
   "cell_type": "code",
   "execution_count": 73,
   "id": "1c5d7671",
   "metadata": {},
   "outputs": [
    {
     "data": {
      "text/plain": [
       "\"### CV Review\\n\\n**Score: 4/10**\\n\\n**Reasoning:**\\nThe CV lacks relevant experience in full-stack development, as the majority of the work history is focused on warehouse and customer service roles. While Daniel has a degree in System Analysis and Development, the practical application of this knowledge in a development context is not evident.\\n\\n**Strengths:**\\n- **Education:** The degree in System Analysis and Development is relevant to the desired role.\\n- **Languages:** Proficiency in multiple languages can be an asset in diverse work environments.\\n\\n**Weaknesses:**\\n- **Irrelevant Experience:** Most of the work history is unrelated to full-stack development, which diminishes the CV's impact.\\n- **Lack of Technical Skills Demonstration:** There are no examples of projects or roles that showcase full-stack development skills.\\n- **Formatting Issues:** The CV lacks clear section headings and a structured format, making it difficult to read.\\n\\n**Suggestions for Improvement:**\\n1. **Highlight Relevant Experience:** Focus on any projects or roles that involved full-stack development, even if they were part-time or freelance.\\n2. **Include Technical Projects:** Add a section for personal projects or contributions to open-source projects that demonstrate coding skills.\\n3. **Improve Formatting:** Use clear headings for sections (Education, Skills, Experience) and bullet points for easier readability.\\n4. **Tailor the CV:** Customize the CV for each application to emphasize the most relevant skills and experiences for the specific job.\\n\\nOverall, while Daniel has a relevant educational background, the lack of direct experience in full-stack development and the presence of unrelated work history significantly impact the CV's effectiveness.\\n\\n**Final Score: 4/10**\""
      ]
     },
     "execution_count": 73,
     "metadata": {},
     "output_type": "execute_result"
    }
   ],
   "source": [
    "response"
   ]
  },
  {
   "cell_type": "code",
   "execution_count": null,
   "id": "c5ab2dd2",
   "metadata": {},
   "outputs": [],
   "source": []
  }
 ],
 "metadata": {
  "kernelspec": {
   "display_name": "nn",
   "language": "python",
   "name": "python3"
  },
  "language_info": {
   "codemirror_mode": {
    "name": "ipython",
    "version": 3
   },
   "file_extension": ".py",
   "mimetype": "text/x-python",
   "name": "python",
   "nbconvert_exporter": "python",
   "pygments_lexer": "ipython3",
   "version": "3.11.13"
  }
 },
 "nbformat": 4,
 "nbformat_minor": 5
}
