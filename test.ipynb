{
 "cells": [
  {
   "cell_type": "code",
   "execution_count": 2,
   "id": "8522dad2",
   "metadata": {},
   "outputs": [
    {
     "name": "stdout",
     "output_type": "stream",
     "text": [
      "### CV Review\n",
      "\n",
      "**Reasoning:**\n",
      "Caitlin's CV is well-structured and presents relevant experience for a care assistant position. Her education in Adult Nursing and volunteer work with Age UK align well with the job she is seeking. However, the CV could benefit from improved formatting and clarity.\n",
      "\n",
      "**Strengths:**\n",
      "- **Relevant Education:** The BSc in Adult Nursing is directly applicable to the care assistant role.\n",
      "- **Volunteer Experience:** Her time at Age UK demonstrates hands-on experience with vulnerable adults, which is crucial for the position.\n",
      "- **Skills:** The skills listed, such as communication and teamwork, are essential for a care assistant.\n",
      "\n",
      "**Weaknesses:**\n",
      "- **Formatting Issues:** The CV lacks spaces between words, making it difficult to read. Proper spacing and punctuation are necessary for clarity.\n",
      "- **Limited Work Experience:** While her volunteer experience is relevant, there is only one job listed, which may not fully showcase her capabilities.\n",
      "- **Generic Objective Statement:** The objective could be more tailored to the specific role and highlight her passion for care work.\n",
      "\n",
      "**Suggestions for Improvement:**\n",
      "1. **Improve Formatting:** Ensure proper spacing and punctuation throughout the CV for better readability.\n",
      "2. **Expand Work Experience:** Include any additional relevant experiences, even if they are informal or part-time.\n",
      "3. **Tailor Objective Statement:** Customize the objective to reflect her enthusiasm for the care assistant role and her specific skills that make her a good fit.\n",
      "\n",
      "Overall, Caitlin has a strong educational background and relevant volunteer experience, but the CV's readability and presentation need improvement to make a stronger impact.\n",
      "\n",
      "**Final Score: 7/10**\n"
     ]
    }
   ],
   "source": [
    "from analysis import evaluate\n",
    "print(evaluate('nurse_cv.pdf'))"
   ]
  },
  {
   "cell_type": "code",
   "execution_count": 3,
   "id": "4216e28a",
   "metadata": {},
   "outputs": [],
   "source": [
    "response = evaluate('monopoly_rules.pdf')"
   ]
  },
  {
   "cell_type": "code",
   "execution_count": 4,
   "id": "3531cca5",
   "metadata": {},
   "outputs": [
    {
     "name": "stdout",
     "output_type": "stream",
     "text": [
      "This document is not a CV. Please provide a valid CV.\n"
     ]
    }
   ],
   "source": [
    "print(response)"
   ]
  },
  {
   "cell_type": "code",
   "execution_count": null,
   "id": "74ec6bfd",
   "metadata": {},
   "outputs": [],
   "source": []
  }
 ],
 "metadata": {
  "kernelspec": {
   "display_name": "nn",
   "language": "python",
   "name": "python3"
  },
  "language_info": {
   "codemirror_mode": {
    "name": "ipython",
    "version": 3
   },
   "file_extension": ".py",
   "mimetype": "text/x-python",
   "name": "python",
   "nbconvert_exporter": "python",
   "pygments_lexer": "ipython3",
   "version": "3.11.13"
  }
 },
 "nbformat": 4,
 "nbformat_minor": 5
}
